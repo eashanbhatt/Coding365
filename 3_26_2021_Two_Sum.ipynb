{
 "cells": [
  {
   "cell_type": "markdown",
   "metadata": {},
   "source": [
    "<b>1. Two Sum</b>\n",
    "\n",
    "Given an array of integers nums and an integer target, return indices of the two numbers such that they add up to target.\n",
    "\n",
    "You may assume that each input would have exactly one solution, and you may not use the same element twice.\n",
    "\n",
    "You can return the answer in any order.\n",
    "\n",
    " \n",
    "\n",
    "Example 1:\n",
    "\n",
    "<b>Input:</b> nums = [2,7,11,15], target = 9 \\\n",
    "<b>Output:</b> [0,1]\\\n",
    "<b>Output:</b> Because nums[0] + nums[1] == 9, we return [0, 1].\n",
    "\n",
    "<b>Example 2:</b>\n",
    "\n",
    "<b>Input:</b> nums = [3,2,4], target = 6 \\\n",
    "<b>Output:</b> [1,2]\n",
    "\n",
    "<b>Example 3:</b>\n",
    "\n",
    "<b>Input:</b> nums = [3,3], target = 6 \\\n",
    "<b>Output:</b> [0,1]\n",
    " \n",
    "\n",
    "<b>Constraints:</b>\n",
    "\n",
    "2 <= nums.length <= 103\n",
    "-109 <= nums[i] <= 109\n",
    "-109 <= target <= 109\n",
    "Only one valid answer exists."
   ]
  },
  {
   "cell_type": "code",
   "execution_count": 2,
   "metadata": {},
   "outputs": [
    {
     "name": "stdout",
     "output_type": "stream",
     "text": [
      "(0, 1)\n"
     ]
    }
   ],
   "source": [
    "def two_sum(nums,target):\n",
    "    dict={}\n",
    "    for i, elem in enumerate(nums):\n",
    "        comp=target-elem\n",
    "        if comp in dict:\n",
    "            return (dict[comp],i)\n",
    "        dict[elem]=i\n",
    "    return []\n",
    "    \n",
    "print(two_sum([2,7,11,15],9))\n"
   ]
  }
 ],
 "metadata": {
  "kernelspec": {
   "display_name": "Python 3",
   "language": "python",
   "name": "python3"
  },
  "language_info": {
   "codemirror_mode": {
    "name": "ipython",
    "version": 3
   },
   "file_extension": ".py",
   "mimetype": "text/x-python",
   "name": "python",
   "nbconvert_exporter": "python",
   "pygments_lexer": "ipython3",
   "version": "3.7.6"
  }
 },
 "nbformat": 4,
 "nbformat_minor": 4
}
