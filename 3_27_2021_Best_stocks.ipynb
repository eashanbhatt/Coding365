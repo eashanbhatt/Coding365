{
 "cells": [
  {
   "cell_type": "markdown",
   "metadata": {},
   "source": [
    "<b>Best Time to Buy and Sell Stock</b>\n",
    "\n",
    "<b>Input:</b> prices = [7,1,5,3,6,4]\n",
    "\n",
    "<b>Output:</b> 5\n",
    "\n",
    "<b>Explanation:</b> Buy on day 2 (price = 1) and sell on day 5 (price = 6), profit = 6-1 = 5.\n",
    "\n",
    "<b>Note</b> that buying on day 2 and selling on day 1 is not allowed because you must buy before you sell."
   ]
  },
  {
   "cell_type": "code",
   "execution_count": 1,
   "metadata": {},
   "outputs": [
    {
     "name": "stdout",
     "output_type": "stream",
     "text": [
      "5\n"
     ]
    }
   ],
   "source": [
    "def maxProfit(prices):\n",
    "        profit,min_buy=0,float('inf') \n",
    "        for price in prices:\n",
    "            if price<min_buy:\n",
    "                min_buy=price\n",
    "            if (price-min_buy)>profit:\n",
    "                profit=price-min_buy\n",
    "        return profit\n",
    "print(maxProfit([7,1,5,3,6,4]))"
   ]
  }
 ],
 "metadata": {
  "kernelspec": {
   "display_name": "Python 3",
   "language": "python",
   "name": "python3"
  },
  "language_info": {
   "codemirror_mode": {
    "name": "ipython",
    "version": 3
   },
   "file_extension": ".py",
   "mimetype": "text/x-python",
   "name": "python",
   "nbconvert_exporter": "python",
   "pygments_lexer": "ipython3",
   "version": "3.7.6"
  }
 },
 "nbformat": 4,
 "nbformat_minor": 4
}
